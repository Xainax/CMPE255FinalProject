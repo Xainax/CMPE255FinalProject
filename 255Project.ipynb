{
 "cells": [
  {
   "cell_type": "code",
   "execution_count": 1,
   "id": "ccb60fbf-4529-4c53-a412-7d84419a23cf",
   "metadata": {},
   "outputs": [
    {
     "name": "stdout",
     "output_type": "stream",
     "text": [
      "     FILENAME                                 URL  URLLength  \\\n",
      "0  521848.txt    https://www.southbankmosaics.com         31   \n",
      "1   31372.txt            https://www.uni-mainz.de         23   \n",
      "2  597387.txt      https://www.voicefmradio.co.uk         29   \n",
      "3  554095.txt         https://www.sfnmjournal.com         26   \n",
      "4  151578.txt  https://www.rewildingargentina.org         33   \n",
      "\n",
      "                       Domain  DomainLength  IsDomainIP  TLD  \\\n",
      "0    www.southbankmosaics.com            24           0  com   \n",
      "1            www.uni-mainz.de            16           0   de   \n",
      "2      www.voicefmradio.co.uk            22           0   uk   \n",
      "3         www.sfnmjournal.com            19           0  com   \n",
      "4  www.rewildingargentina.org            26           0  org   \n",
      "\n",
      "   URLSimilarityIndex  CharContinuationRate  TLDLegitimateProb  ...  Pay  \\\n",
      "0               100.0              1.000000           0.522907  ...    0   \n",
      "1               100.0              0.666667           0.032650  ...    0   \n",
      "2               100.0              0.866667           0.028555  ...    0   \n",
      "3               100.0              1.000000           0.522907  ...    1   \n",
      "4               100.0              1.000000           0.079963  ...    1   \n",
      "\n",
      "   Crypto  HasCopyrightInfo  NoOfImage  NoOfCSS  NoOfJS  NoOfSelfRef  \\\n",
      "0       0                 1         34       20      28          119   \n",
      "1       0                 1         50        9       8           39   \n",
      "2       0                 1         10        2       7           42   \n",
      "3       1                 1          3       27      15           22   \n",
      "4       0                 1        244       15      34           72   \n",
      "\n",
      "   NoOfEmptyRef  NoOfExternalRef  label  \n",
      "0             0              124      1  \n",
      "1             0              217      1  \n",
      "2             2                5      1  \n",
      "3             1               31      1  \n",
      "4             1               85      1  \n",
      "\n",
      "[5 rows x 56 columns]\n"
     ]
    }
   ],
   "source": [
    "import pandas as pd\n",
    "import numpy as np\n",
    "\n",
    "# load dataset\n",
    "df = pd.read_csv(\"PhiUSIIL_Phishing_URL_Dataset.csv\")\n",
    "print(df.head())\n"
   ]
  },
  {
   "cell_type": "code",
   "execution_count": 2,
   "id": "b3619d94-a6d5-4211-8697-9b243046126f",
   "metadata": {},
   "outputs": [],
   "source": [
    "# data preprocessing"
   ]
  },
  {
   "cell_type": "code",
   "execution_count": 3,
   "id": "741c70f5-9cf1-4159-a2ab-64b7e706aa6d",
   "metadata": {},
   "outputs": [],
   "source": [
    "# feature engineering / dimensionality reduction"
   ]
  },
  {
   "cell_type": "code",
   "execution_count": 4,
   "id": "92882863-3458-410a-bf81-262ad866d929",
   "metadata": {},
   "outputs": [],
   "source": [
    "# train classifier"
   ]
  },
  {
   "cell_type": "code",
   "execution_count": 5,
   "id": "368ce352-8b0a-4890-841c-d1aa38b025a1",
   "metadata": {},
   "outputs": [],
   "source": [
    "# evaluation / comparison of classifier"
   ]
  }
 ],
 "metadata": {
  "kernelspec": {
   "display_name": "Python (CMPE279)",
   "language": "python",
   "name": "keystroke-env"
  },
  "language_info": {
   "codemirror_mode": {
    "name": "ipython",
    "version": 3
   },
   "file_extension": ".py",
   "mimetype": "text/x-python",
   "name": "python",
   "nbconvert_exporter": "python",
   "pygments_lexer": "ipython3",
   "version": "3.12.5"
  }
 },
 "nbformat": 4,
 "nbformat_minor": 5
}
